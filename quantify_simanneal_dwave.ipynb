{
 "cells": [
  {
   "cell_type": "code",
   "execution_count": 1,
   "id": "85f1a42c",
   "metadata": {},
   "outputs": [
    {
     "data": {
      "text/plain": [
       "SampleSet(rec.array([([-1, -1], -1.5, 1), ([-1, -1], -1.5, 1), ([-1, -1], -1.5, 1),\n",
       "           ([-1, -1], -1.5, 1), ([-1, -1], -1.5, 1), ([-1, -1], -1.5, 1),\n",
       "           ([-1, -1], -1.5, 1), ([-1, -1], -1.5, 1), ([-1, -1], -1.5, 1),\n",
       "           ([-1, -1], -1.5, 1)],\n",
       "          dtype=[('sample', 'i1', (2,)), ('energy', '<f8'), ('num_occurrences', '<i8')]), Variables(['a', 'b']), {'beta_range': [0.34657359027997264, 9.210340371976184], 'beta_schedule_type': 'geometric'}, 'SPIN')"
      ]
     },
     "execution_count": 1,
     "metadata": {},
     "output_type": "execute_result"
    }
   ],
   "source": [
    "from dwave.system import DWaveSampler, EmbeddingComposite\n",
    "from dimod import BinaryQuadraticModel\n",
    "bqm=BinaryQuadraticModel('BINARY')\n",
    "numvar=[1,2,3,4]\n",
    "x=[\"x1\",\"x2\",\"x3\",\"x4\"]\n",
    "for i in numvar:\n",
    "    bqm.add_variable(x[i-1],1)\n",
    "    \n",
    "    \n",
    "# import local solver: simulated annealing\n",
    "import neal\n",
    "solver = neal.sampler.SimulatedAnnealingSampler()\n",
    "sampleset = solver.sample_ising({'a': -0.5, 'b': 1.0}, {('a', 'b'): -1}, num_reads=10)\n",
    "sampleset"
   ]
  },
  {
   "cell_type": "code",
   "execution_count": 422,
   "id": "dddf35fc",
   "metadata": {},
   "outputs": [
    {
     "name": "stdout",
     "output_type": "stream",
     "text": [
      "    a  b  c  d  e  f energy num_oc.\n",
      "2   0  1  1  0  0  0   -1.8       1\n",
      "3   0  1  1  0  0  0   -1.8       1\n",
      "4   0  1  1  0  0  0   -1.8       1\n",
      "5   0  1  1  0  0  1   -1.8       1\n",
      "6   0  1  1  0  0  1   -1.8       1\n",
      "8   0  1  1  0  0  1   -1.8       1\n",
      "9   0  1  1  0  0  0   -1.8       1\n",
      "10  0  1  1  0  0  1   -1.8       1\n",
      "12  0  1  1  0  0  0   -1.8       1\n",
      "13  0  1  1  0  0  0   -1.8       1\n",
      "14  0  1  1  0  0  0   -1.8       1\n",
      "15  0  1  1  0  0  1   -1.8       1\n",
      "16  0  1  1  0  0  1   -1.8       1\n",
      "17  0  1  1  0  0  0   -1.8       1\n",
      "19  0  1  1  0  0  1   -1.8       1\n",
      "0   0  1  0  1  0  0   -1.4       1\n",
      "18  0  1  0  1  0  0   -1.4       1\n",
      "7   0  1  1  1  0  0   -1.3       1\n",
      "11  0  1  1  1  0  1   -1.3       1\n",
      "1   0  1  0  0  0  1   -0.9       1\n",
      "['BINARY', 20 rows, 20 samples, 6 variables]\n"
     ]
    }
   ],
   "source": [
    "# Program to include in the UI\n",
    "import dimod\n",
    "import neal\n",
    "import numpy\n",
    "sampler = neal.sampler.SimulatedAnnealingSampler()\n",
    "bqm = dimod.BinaryQuadraticModel({'a': .6, 'b': -.9, 'c':.1, 'd':-.5, 'e':.9, 'f':0}, {('a', 'b'): 1,('b', 'c'): -1,('c', 'd'): +1,('d', 'e'): 1}, 0.0, dimod.BINARY)\n",
    "# Run with default parameters\n",
    "#sampleset = sampler.sample(bqm)\n",
    "# Run with specified parameters\n",
    "sampleset = sampler.sample(bqm, seed=1234, beta_range=[0.1, 4.2],\n",
    "                               num_reads=20, num_sweeps=1000,\n",
    "                              beta_schedule_type='geometric', sorted_by='energy', initial_states_generator='random')\n",
    "#sampleset = sampler.sample(bqm, seed=1234, num_reads=10, num_sweeps=1000, beta_schedule_type='geometric',sorted_by='energy')\n",
    "\n",
    "\n",
    "print(sampleset)\n",
    "\n"
   ]
  },
  {
   "cell_type": "code",
   "execution_count": 423,
   "id": "366b910f",
   "metadata": {},
   "outputs": [
    {
     "name": "stdout",
     "output_type": "stream",
     "text": [
      "[0.5333333333333333, 0.4666666666666667]\n",
      "[0, 0, 0, 0, 0, 1]\n",
      "[array([0, 1, 1, 0, 0, 1], dtype=int8), array([0, 1, 1, 0, 0, 0], dtype=int8)]\n",
      "0.5333333333333333\n"
     ]
    }
   ],
   "source": [
    "from collections import Counter\n",
    "\n",
    "x=sampleset.record.sample\n",
    "y=sampleset.record.energy\n",
    "miny=min(y)\n",
    "sortedy=sorted(y)\n",
    "z=list(range(y.size))#creates a list of indices.\n",
    "energyindexpair=[k for _, k in sorted(list(zip(y, z)))]# sorts (energy, index) pair based on energies and outputs ordered indices\n",
    "sortedsample=[x[k] for k in energyindexpair] # creates a list of bitstrings sorted in increasing order of energy.\n",
    "\n",
    "#find the number of lowest energy bitstrings\n",
    "lowestenlistsize=0\n",
    "for i in range(y.size):\n",
    "    if sortedy[i]==miny:\n",
    "        lowestenlistsize=i\n",
    "\n",
    "# store the solutions (only the lowest energy bitstrings)\n",
    "lowestenergysortedsample=sortedsample[0:lowestenlistsize+1]\n",
    "\n",
    "#extract unique solutions and their frequency or probability\n",
    "strsample=map(str,lowestenergysortedsample)\n",
    "strsamplelist=list(map(str,lowestenergysortedsample))\n",
    "struniqsols=list(set(strsample))\n",
    "count=Counter(strsamplelist)\n",
    "totalcount=sum(count.values())\n",
    "solutionlist=list()\n",
    "for i in range(len(struniqsols)):\n",
    "    solutionlist.append(numpy.frombuffer(struniqsols[i].replace('[','').replace(']','').replace(\" \",'').encode(), numpy.int8) - 48)\n",
    "len(solutionlist)\n",
    "probvector=[frequency/totalcount for frequency in count.values()]\n",
    "print(probvector)\n",
    "\n",
    "#Find marginal probability of solutions matching partial future projection vector.\n",
    "futuresoln=[0,0,0,0,0,1]  #partial projection data\n",
    "futuresolnpositions=[index for (index, item) in enumerate(futuresoln) if item == 1]\n",
    "marginalprob=0\n",
    "for i in range(len(solutionlist)):\n",
    "    match=1\n",
    "    for j in range(len(futuresolnpositions)):\n",
    "        if solutionlist[i][futuresolnpositions[j]]==futuresoln[futuresolnpositions[j]]:\n",
    "            match=match*1\n",
    "        else:\n",
    "            match=match*0\n",
    "    if match==1:\n",
    "        marginalprob=marginalprob+probvector[i]\n",
    "\n",
    "        \n",
    "#Check convergence\n",
    "\n",
    "            \n",
    "\n",
    "print(futuresoln)\n",
    "print(solutionlist)\n",
    "print(marginalprob)\n",
    "\n",
    "\n",
    "\n"
   ]
  },
  {
   "cell_type": "code",
   "execution_count": 309,
   "id": "baf4503a",
   "metadata": {},
   "outputs": [
    {
     "data": {
      "text/plain": [
       "array([0, 1, 1, 0, 0, 0], dtype=int8)"
      ]
     },
     "execution_count": 309,
     "metadata": {},
     "output_type": "execute_result"
    }
   ],
   "source": [
    "strsamplelist[1].replace('[','').replace(']','').replace(\" \",'')\n",
    "numpy.frombuffer(strsamplelist[1].replace('[','').replace(']','').replace(\" \",'').encode(), numpy.int8) - 48"
   ]
  },
  {
   "cell_type": "code",
   "execution_count": 331,
   "id": "164d6909",
   "metadata": {},
   "outputs": [
    {
     "data": {
      "text/plain": [
       "[array([0, 1, 1, 0, 0, 1], dtype=int8), array([0, 1, 1, 0, 0, 0], dtype=int8)]"
      ]
     },
     "execution_count": 331,
     "metadata": {},
     "output_type": "execute_result"
    }
   ],
   "source": [
    "solutionlist"
   ]
  },
  {
   "cell_type": "code",
   "execution_count": 435,
   "id": "1795d0f4",
   "metadata": {},
   "outputs": [
    {
     "ename": "AttributeError",
     "evalue": "'BinaryQuadraticModel' object has no attribute 'set_linear_from_array'",
     "output_type": "error",
     "traceback": [
      "\u001b[0;31m---------------------------------------------------------------------------\u001b[0m",
      "\u001b[0;31mAttributeError\u001b[0m                            Traceback (most recent call last)",
      "Cell \u001b[0;32mIn [435], line 5\u001b[0m\n\u001b[1;32m      3\u001b[0m bqm1\u001b[38;5;241m.\u001b[39madd_quadratic_from_dense([[\u001b[38;5;241m0\u001b[39m,\u001b[38;5;241m1\u001b[39m,\u001b[38;5;241m0\u001b[39m,\u001b[38;5;241m0\u001b[39m,\u001b[38;5;241m0\u001b[39m,\u001b[38;5;241m0\u001b[39m],[\u001b[38;5;241m0\u001b[39m, \u001b[38;5;241m0\u001b[39m, \u001b[38;5;241m-\u001b[39m\u001b[38;5;241m1\u001b[39m,\u001b[38;5;241m0\u001b[39m,\u001b[38;5;241m0\u001b[39m,\u001b[38;5;241m0\u001b[39m], [\u001b[38;5;241m0\u001b[39m, \u001b[38;5;241m0\u001b[39m, \u001b[38;5;241m0\u001b[39m,\u001b[38;5;241m1\u001b[39m,\u001b[38;5;241m0\u001b[39m,\u001b[38;5;241m0\u001b[39m],[\u001b[38;5;241m0\u001b[39m,\u001b[38;5;241m0\u001b[39m,\u001b[38;5;241m0\u001b[39m,\u001b[38;5;241m0\u001b[39m,\u001b[38;5;241m1\u001b[39m,\u001b[38;5;241m0\u001b[39m],[\u001b[38;5;241m0\u001b[39m,\u001b[38;5;241m0\u001b[39m,\u001b[38;5;241m0\u001b[39m,\u001b[38;5;241m0\u001b[39m,\u001b[38;5;241m0\u001b[39m,\u001b[38;5;241m0\u001b[39m],[\u001b[38;5;241m0\u001b[39m,\u001b[38;5;241m0\u001b[39m,\u001b[38;5;241m0\u001b[39m,\u001b[38;5;241m0\u001b[39m,\u001b[38;5;241m0\u001b[39m,\u001b[38;5;241m0\u001b[39m]])\n\u001b[1;32m      4\u001b[0m bqm1\u001b[38;5;241m.\u001b[39madd_linear_from_array([\u001b[38;5;241m.6\u001b[39m,\u001b[38;5;241m-\u001b[39m\u001b[38;5;241m.9\u001b[39m,\u001b[38;5;241m.1\u001b[39m,\u001b[38;5;241m-\u001b[39m\u001b[38;5;241m.5\u001b[39m,\u001b[38;5;241m.9\u001b[39m,\u001b[38;5;241m0\u001b[39m])\n\u001b[0;32m----> 5\u001b[0m \u001b[43mbqm1\u001b[49m\u001b[38;5;241;43m.\u001b[39;49m\u001b[43mset_linear_from_array\u001b[49m([\u001b[38;5;241m.2\u001b[39m,\u001b[38;5;241m-\u001b[39m\u001b[38;5;241m.9\u001b[39m,\u001b[38;5;241m.1\u001b[39m,\u001b[38;5;241m-\u001b[39m\u001b[38;5;241m.5\u001b[39m,\u001b[38;5;241m.9\u001b[39m,\u001b[38;5;241m0\u001b[39m])\n\u001b[1;32m      6\u001b[0m sampleset1\u001b[38;5;241m=\u001b[39msampler\u001b[38;5;241m.\u001b[39msample(bqm1, seed\u001b[38;5;241m=\u001b[39m\u001b[38;5;241m1234\u001b[39m, num_reads\u001b[38;5;241m=\u001b[39m\u001b[38;5;241m20\u001b[39m, num_sweeps\u001b[38;5;241m=\u001b[39m\u001b[38;5;241m1000\u001b[39m, beta_schedule_type\u001b[38;5;241m=\u001b[39m\u001b[38;5;124m'\u001b[39m\u001b[38;5;124mgeometric\u001b[39m\u001b[38;5;124m'\u001b[39m,sorted_by\u001b[38;5;241m=\u001b[39m\u001b[38;5;124m'\u001b[39m\u001b[38;5;124menergy\u001b[39m\u001b[38;5;124m'\u001b[39m)\n\u001b[1;32m      9\u001b[0m \u001b[38;5;28mprint\u001b[39m(bqm1)\n",
      "\u001b[0;31mAttributeError\u001b[0m: 'BinaryQuadraticModel' object has no attribute 'set_linear_from_array'"
     ]
    }
   ],
   "source": [
    "bqm1=dimod.BinaryQuadraticModel('BINARY')\n",
    "#bqm1.add_variable(6)\n",
    "bqm1.add_quadratic_from_dense([[0,1,0,0,0,0],[0, 0, -1,0,0,0], [0, 0, 0,1,0,0],[0,0,0,0,1,0],[0,0,0,0,0,0],[0,0,0,0,0,0]])\n",
    "bqm1.add_linear_from_array([.6,-.9,.1,-.5,.9,0])\n",
    "bqm1.set_linear_from_array([.2,-.9,.1,-.5,.9,0])\n",
    "sampleset1=sampler.sample(bqm1, seed=1234, num_reads=20, num_sweeps=1000, beta_schedule_type='geometric',sorted_by='energy')\n",
    "\n",
    "\n",
    "print(bqm1)"
   ]
  },
  {
   "cell_type": "code",
   "execution_count": 608,
   "id": "f8840115",
   "metadata": {},
   "outputs": [
    {
     "name": "stdout",
     "output_type": "stream",
     "text": [
      "[0.32, 0.25, 0.23, 0.2]\n",
      "[array([0, 1, 1, 0, 0, 1], dtype=int8), array([0, 1, 1, 0, 1, 1], dtype=int8), array([0, 1, 1, 0, 1, 0], dtype=int8), array([0, 1, 1, 0, 0, 0], dtype=int8)]\n",
      "----\n",
      "[-0.0, -0.0, -0.0, -0.0, -0.04000000000000001, -0.0]\n",
      "[0.52, 0.48]\n",
      "[array([0, 1, 1, 0, 1, 1], dtype=int8), array([0, 1, 1, 0, 1, 0], dtype=int8)]\n",
      "----\n",
      "[array([0, 1, 1, 0, 1, 1], dtype=int8), array([0, 1, 1, 0, 1, 0], dtype=int8)]\n",
      "[[-2.16, 198.92, 0.12, -0.6, 0.0, 0.0], [-1.08, 4.59, -40.18, 0.9, 0.0, 0.0], [0.12, -0.18000000000000002, -0.41000000000000003, 9.9, 0.0, 0.0], [-0.6, 0.9, -0.1, 2.35, 20.0, 0.0], [0.0, 0.0, 0.0, 0.0, 0.0, 0.0], [0.0, 0.0, 0.0, 0.0, 0.0, 0.0]]\n",
      "[[0, 198.92, 0.12, -0.6, 0.0, 0.0], [0, 0, -40.18, 0.9, 0.0, 0.0], [0, 0, 0, 9.9, 0.0, 0.0], [0, 0, 0, 0, 20.0, 0.0], [0, 0, 0, 0, 0, 0.0], [0, 0, 0, 0, 0, 0]]\n",
      "[-2.16, 4.59, -0.41000000000000003, 2.35, 0.0, 0.0]\n",
      "4.41\n"
     ]
    }
   ],
   "source": [
    "import dimod\n",
    "import neal\n",
    "import numpy\n",
    "from collections import Counter\n",
    "from dwave.system import DWaveSampler, EmbeddingComposite\n",
    "from dimod import BinaryQuadraticModel\n",
    "\n",
    "sampler = neal.sampler.SimulatedAnnealingSampler()\n",
    "\n",
    "Cov=[[0,200,0,0,0,0],[0, 0, -40,0,0,0], [0, 0, 0,10,0,0],[0,0,0,0,20,0],[0,0,0,0,0,0],[0,0,0,0,0,0]]# symmetric matrix\n",
    "currentprice=[.6,-.9,.1,-.5,.9,0] #all elements of price vector should be >0 (not including 0)\n",
    "totalcost=3                       # cost budget\n",
    "numvar=len(currentprice)          # Number of assets\n",
    "futuresoln=[0,0,0,0,1,0]          #partial projection data: O -> no info available, 1 -> must pick the asset\n",
    "futuresolnpositions=[index for (index, item) in enumerate(futuresoln) if item == 1]\n",
    "convergence=0\n",
    "Pconvergence=0.9\n",
    "\n",
    "#Calculate input quadratic and linear biases for the BQM\n",
    "lagmultiplier=1\n",
    "rcost=totalcost-sum([currentprice[k]*futuresoln[k] for k in range(numvar)]) #residual cost\n",
    "constraintmatrix=[[0 for j in range(numvar)] for i in range(numvar)] #symmetrix matrix\n",
    "for i in range(numvar):\n",
    "    for j in range(numvar):\n",
    "        if i==j:\n",
    "            constraintmatrix[i][i]=lagmultiplier*(1-futuresoln[i])*(currentprice[i]*currentprice[i]-2*currentprice[i]*rcost)\n",
    "        else:\n",
    "            constraintmatrix[i][j]=lagmultiplier*(1-futuresoln[i])*(1-futuresoln[j])*2*currentprice[i]*currentprice[j]\n",
    "\n",
    "#totalbiasmatrix and offset\n",
    "totalbiasmatrix=[[Cov[i][j]+constraintmatrix[i][j] for j in range(numvar)] for i in range(numvar)]\n",
    "quadraticbiasmatrix=[[0 for j in range(numvar)] for i in range(numvar)]\n",
    "for i in range(numvar):\n",
    "    for j in range(numvar):\n",
    "        if j>i:\n",
    "            quadraticbiasmatrix[i][j]=totalbiasmatrix[i][j]\n",
    "\n",
    "linearbiasvector=[0 for i in range(numvar)]\n",
    "for i in range(numvar):\n",
    "    linearbiasvector[i]=totalbiasmatrix[i][i]\n",
    "\n",
    "costoffset=rcost*rcost\n",
    "\n",
    "# create BQM Object\n",
    "bqm1=dimod.BinaryQuadraticModel('BINARY')\n",
    "bqm1.add_quadratic_from_dense(quadraticbiasmatrix)\n",
    "bqm1.add_linear_from_array(linearbiasvector)\n",
    "bqm1.offset+=costoffset\n",
    "\n",
    "\n",
    "\n",
    "\n",
    "while convergence!=1:\n",
    "    \n",
    "    # Sample from BQM\n",
    "    sampleset1=sampler.sample(bqm1, seed=1234, num_reads=100, num_sweeps=1000, beta_schedule_type='geometric',sorted_by='energy')\n",
    "\n",
    "\n",
    "\n",
    "    x=sampleset1.record.sample\n",
    "    y=sampleset1.record.energy\n",
    "    miny=min(y)\n",
    "    sortedy=sorted(y)\n",
    "    z=list(range(y.size))#creates a list of indices.\n",
    "    energyindexpair=[k for _, k in sorted(list(zip(y, z)))]# sorts (energy, index) pair based on energies and outputs ordered indices\n",
    "    sortedsample=[x[k] for k in energyindexpair] # creates a list of bitstrings sorted in increasing order of energy.\n",
    "\n",
    "    # find the number of lowest energy bitstrings\n",
    "    lowestenlistsize=0\n",
    "    for i in range(y.size):\n",
    "        if sortedy[i]==miny:\n",
    "            lowestenlistsize=i\n",
    "\n",
    "    # store the solutions (only the lowest energy bitstrings)\n",
    "    lowestenergysortedsample=sortedsample[0:lowestenlistsize+1]\n",
    "\n",
    "    # extract unique solutions and their frequency or probability\n",
    "    strsample=map(str,lowestenergysortedsample)\n",
    "    strsamplelist=list(map(str,lowestenergysortedsample))\n",
    "    struniqsols=list(set(strsample))\n",
    "    count=Counter(strsamplelist)\n",
    "    totalcount=sum(count.values())\n",
    "    solutionlist=list()\n",
    "    for i in range(len(struniqsols)):\n",
    "        solutionlist.append(numpy.frombuffer(struniqsols[i].replace('[','').replace(']','').replace(\" \",'').encode(), numpy.int8) - 48)\n",
    "    probvector=[frequency/totalcount for frequency in count.values()]\n",
    "    print(probvector)\n",
    "    print(solutionlist)\n",
    "    print(\"----\")\n",
    "    \n",
    "    #Find marginal probability of solutions matching partial future projection vector.\n",
    "    marginalprob=0\n",
    "    numsolutions=len(solutionlist)\n",
    "    for i in range(len(solutionlist)):\n",
    "        match=1\n",
    "        for j in range(len(futuresolnpositions)):\n",
    "            if solutionlist[i][futuresolnpositions[j]]==futuresoln[futuresolnpositions[j]]:\n",
    "                match=match*1\n",
    "            else:\n",
    "                match=match*0\n",
    "        if match==1:\n",
    "            marginalprob=marginalprob+probvector[i]\n",
    "            \n",
    "    # Check for convergence\n",
    "    if marginalprob>=Pconvergence:\n",
    "        convergence=1\n",
    "    else:\n",
    "        localfieldincrement=[0 for k in range(numvar)]\n",
    "        fieldweightingfactor=[currentprice[k]/totalcost for k in range(numvar)]\n",
    "        averagesol=[0 for i in range(numvar)]\n",
    "        sumsol=[0 for i in range(numvar)]\n",
    "        delh=-0.1\n",
    "        for i in range(numsolutions):\n",
    "            sumsol=[sum(k) for k in zip(sumsol,solutionlist[i])]\n",
    "        averagesol=[(1/numsolutions)*k for k in sumsol]\n",
    "        \n",
    "        localfieldincrement=[futuresoln[k]*(1-averagesol[k])*(fieldweightingfactor[k]+.5)*delh for k in range(numvar)]\n",
    "        print(localfieldincrement)\n",
    "    #update local fields in the BQM for the next iteration\n",
    "    bqm1.add_linear_from_array(localfieldincrement)\n",
    "\n",
    "print(solutionlist)\n",
    "print(totalbiasmatrix)\n",
    "print(quadraticbiasmatrix)\n",
    "print(linearbiasvector)\n",
    "print(bqm1.offset)"
   ]
  },
  {
   "cell_type": "code",
   "execution_count": 520,
   "id": "e524348b",
   "metadata": {},
   "outputs": [],
   "source": [
    "bqm1.offset += -2"
   ]
  },
  {
   "cell_type": "code",
   "execution_count": 521,
   "id": "292d1271",
   "metadata": {},
   "outputs": [
    {
     "data": {
      "text/plain": [
       "BinaryQuadraticModel({0: 0.6, 1: -0.9, 2: 0.1, 3: -0.5, 4: 0.9, 5: -0.05}, {(1, 0): 1.0, (2, 1): -1.0, (3, 2): 1.0, (4, 3): 1.0}, 0.0, 'BINARY')"
      ]
     },
     "execution_count": 521,
     "metadata": {},
     "output_type": "execute_result"
    }
   ],
   "source": [
    "bqm1"
   ]
  },
  {
   "cell_type": "code",
   "execution_count": 582,
   "id": "a267786c",
   "metadata": {},
   "outputs": [
    {
     "name": "stdout",
     "output_type": "stream",
     "text": [
      "[[-3.2399999999999998, -1.08, 0.12, -0.6, 1.08, 0.0], [-1.08, 6.210000000000001, -0.18000000000000002, 0.9, -1.62, -0.0], [0.12, -0.18000000000000002, -0.5900000000000001, -0.1, 0.18000000000000002, 0.0], [-0.6, 0.9, -0.1, 3.25, -0.9, -0.0], [1.08, -1.62, 0.18000000000000002, -0.9, -4.59, 0.0], [0.0, -0.0, 0.0, -0.0, 0.0, 0.0]]\n"
     ]
    }
   ],
   "source": [
    "constraintmatrix=[[0 for j in range(numvar)] for i in range(numvar)]\n",
    "for i in range(numvar):\n",
    "    for j in range(numvar):\n",
    "        if i==j:\n",
    "            constraintmatrix[i][i]=(1-futuresoln[i])*(currentprice[i]*currentprice[i]-2*currentprice[i]*rcost)\n",
    "        else:\n",
    "            constraintmatrix[i][j]=(1-futuresoln[i])*(1-futuresoln[j])*2*currentprice[i]*currentprice[j]\n",
    "\n",
    "print(constraintmatrix)"
   ]
  },
  {
   "cell_type": "code",
   "execution_count": null,
   "id": "ceaa7436",
   "metadata": {},
   "outputs": [],
   "source": []
  }
 ],
 "metadata": {
  "kernelspec": {
   "display_name": "ocean",
   "language": "python",
   "name": "ocean"
  },
  "language_info": {
   "codemirror_mode": {
    "name": "ipython",
    "version": 3
   },
   "file_extension": ".py",
   "mimetype": "text/x-python",
   "name": "python",
   "nbconvert_exporter": "python",
   "pygments_lexer": "ipython3",
   "version": "3.8.8"
  }
 },
 "nbformat": 4,
 "nbformat_minor": 5
}
